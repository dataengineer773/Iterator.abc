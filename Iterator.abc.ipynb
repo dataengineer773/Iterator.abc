{
 "cells": [
  {
   "cell_type": "code",
   "execution_count": 1,
   "id": "20256273-0194-4203-a9c5-d8e1802d3e26",
   "metadata": {},
   "outputs": [],
   "source": [
    "from collections.abc import Iterable"
   ]
  },
  {
   "cell_type": "code",
   "execution_count": 2,
   "id": "a2bf4d70-2b03-4a3a-bb3e-9d5000b8168e",
   "metadata": {},
   "outputs": [],
   "source": [
    "from abc import ABC, abstractmethod\n",
    "from collections.abc import Iterable\n",
    "\n",
    "def _check_methods(C, *methods):\n",
    "    \"\"\"Utility to check if all required methods are present in a class.\"\"\"\n",
    "    return all(any(method in B.__dict__ for B in C.__mro__) for method in methods)\n",
    "\n",
    "class Iterator(Iterable, ABC):\n",
    "    __slots__ = ()\n",
    "\n",
    "    @abstractmethod\n",
    "    def __next__(self):\n",
    "        \"\"\"Return the next item from the iterator. When exhausted, raise StopIteration.\"\"\"\n",
    "        raise StopIteration\n",
    "\n",
    "    def __iter__(self):\n",
    "        return self\n",
    "\n",
    "    @classmethod\n",
    "    def __subclasshook__(cls, C):\n",
    "        if cls is Iterator:\n",
    "            return _check_methods(C, '__iter__', '__next__')\n",
    "        return NotImplemented\n"
   ]
  },
  {
   "cell_type": "code",
   "execution_count": null,
   "id": "4c3d5527-437f-43fa-bd17-13ceabe40bc4",
   "metadata": {},
   "outputs": [],
   "source": []
  }
 ],
 "metadata": {
  "kernelspec": {
   "display_name": "Python 3 (ipykernel)",
   "language": "python",
   "name": "python3"
  },
  "language_info": {
   "codemirror_mode": {
    "name": "ipython",
    "version": 3
   },
   "file_extension": ".py",
   "mimetype": "text/x-python",
   "name": "python",
   "nbconvert_exporter": "python",
   "pygments_lexer": "ipython3",
   "version": "3.12.3"
  }
 },
 "nbformat": 4,
 "nbformat_minor": 5
}
